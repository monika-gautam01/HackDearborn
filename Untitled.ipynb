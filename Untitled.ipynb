{
 "cells": [
  {
   "cell_type": "code",
   "execution_count": null,
   "id": "141016b6",
   "metadata": {},
   "outputs": [],
   "source": [
    "import pandas as pd\n",
    "import numpy as np"
   ]
  },
  {
   "cell_type": "code",
   "execution_count": null,
   "id": "357f00c3",
   "metadata": {},
   "outputs": [],
   "source": [
    "df_normal_data = pd.read_csv('../Data/normal_run_data.txt',delimiter = '\\t',header=None) \n",
    "df_normal_data[['Col_variable', 'Value1','Value2','Value3']] = df_normal_data[0].str.split(':', expand=True)\n",
    "df_normal_data[['time_stamp','id_variable']]=df_normal_data['Value1'].str.split('        ', expand=True)\n",
    "df_normal_data[['id','dlc_variable']]=df_normal_data['Value2'].str.split('   ', expand=True).drop(columns=[1])\n",
    "df_normal_data[['dlc','d0','d1','d2','d3','d4','d5','d6','d7']]=df_normal_data['Value3'].str.split(' ', expand=True).drop(columns=[0,2,3,4])\n",
    "df_normal_data['Flag']=0\n",
    "df_normal = df_normal_data.drop(columns=[0,'Col_variable', 'Value1','Value2','Value3','id_variable','dlc_variable'])\n",
    "df_normal=df_normal.dropna()\n",
    "df_normal"
   ]
  },
  {
   "cell_type": "code",
   "execution_count": null,
   "id": "4f54fb1f",
   "metadata": {},
   "outputs": [],
   "source": [
    "df_dos = pd.read_csv('../Data/DoS_dataset.csv',header=None)\n",
    "df_fuzzy = pd.read_csv('../Data/Fuzzy_dataset.csv',header=None)\n",
    "df_gear = pd.read_csv('../Data/gear_dataset.csv',header=None)\n",
    "df_rpm = pd.read_csv('../Data/RPM_dataset.csv',header=None)"
   ]
  },
  {
   "cell_type": "code",
   "execution_count": null,
   "id": "ea3223a4",
   "metadata": {},
   "outputs": [],
   "source": [
    "col_names = ['time_stamp','id', 'dlc','d0','d1','d2','d3','d4','d5','d6','d7','Flag']\n",
    "df_dos = df_dos.dropna()\n",
    "df_fuzzy=df_fuzzy.dropna()\n",
    "df_gear=df_gear.dropna()\n",
    "df_rpm=df_rpm.dropna()\n",
    "df_dos.columns = col_names\n",
    "df_fuzzy.columns = col_names\n",
    "df_gear.columns = col_names\n",
    "df_rpm.columns = col_names"
   ]
  },
  {
   "cell_type": "code",
   "execution_count": null,
   "id": "d3662f54",
   "metadata": {},
   "outputs": [],
   "source": [
    "df_dos[df_dos['Flag']=='T']\n",
    "df_fuzzy[df_fuzzy['Flag']=='T']\n",
    "df_gear[df_gear['Flag']=='T']\n",
    "df_rpm[df_rpm['Flag']=='T']"
   ]
  },
  {
   "cell_type": "code",
   "execution_count": null,
   "id": "7a4195cc",
   "metadata": {},
   "outputs": [],
   "source": [
    "'''\n",
    "R --> Normal Message --> Represented with 0\n",
    "T --> DoS Attack --> Represented with 1\n",
    "T --> Fuzzy Attack --> Represented with 2\n",
    "T --> Gear Spoofing Attack --> Represented with 3\n",
    "T --> RPM Spoofing Attack --> Represented with 4\n",
    "'''\n",
    "df_dos['Flag'] = np.where(df_dos['Flag'] == 'T', 1, 0)\n",
    "df_fuzzy['Flag'] = np.where(df_fuzzy['Flag'] == 'T', 2, 0)\n",
    "df_gear['Flag'] = np.where(df_gear['Flag'] == 'T', 3, 0)\n",
    "df_rpm['Flag'] = np.where(df_rpm['Flag'] == 'T', 4, 0)\n"
   ]
  },
  {
   "cell_type": "code",
   "execution_count": null,
   "id": "13b1bea9",
   "metadata": {},
   "outputs": [],
   "source": [
    "df_data=pd.concat([df_normal,df_dos, df_fuzzy,df_gear,df_rpm], axis=1)\n",
    "df_data"
   ]
  },
  {
   "cell_type": "code",
   "execution_count": null,
   "id": "8dafea84",
   "metadata": {},
   "outputs": [],
   "source": []
  }
 ],
 "metadata": {
  "kernelspec": {
   "display_name": "Python 3 (ipykernel)",
   "language": "python",
   "name": "python3"
  },
  "language_info": {
   "codemirror_mode": {
    "name": "ipython",
    "version": 3
   },
   "file_extension": ".py",
   "mimetype": "text/x-python",
   "name": "python",
   "nbconvert_exporter": "python",
   "pygments_lexer": "ipython3",
   "version": "3.9.12"
  }
 },
 "nbformat": 4,
 "nbformat_minor": 5
}
